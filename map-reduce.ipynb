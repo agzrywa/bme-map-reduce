{
 "cells": [
  {
   "cell_type": "markdown",
   "metadata": {},
   "source": [
    "# Intro to map/reduce"
   ]
  },
  {
   "cell_type": "markdown",
   "metadata": {},
   "source": [
    "## Lambda function\n",
    "\n",
    "Python allows to create anonymous function, called lambda.\n",
    "Lambda function doesn't include return statement and doesn't have name."
   ]
  },
  {
   "cell_type": "code",
   "execution_count": 3,
   "metadata": {},
   "outputs": [
    {
     "name": "stdout",
     "output_type": "stream",
     "text": [
      "4\n",
      "256\n"
     ]
    }
   ],
   "source": [
    "# Standard function\n",
    "def power(base, exponent):\n",
    "    return base**exponent\n",
    "\n",
    "print(power(2,2))\n",
    "\n",
    "# Lambda construction\n",
    "p = lambda b,e: b**e\n",
    "    \n",
    "print(p(2,8))"
   ]
  },
  {
   "cell_type": "markdown",
   "metadata": {},
   "source": [
    "\n",
    "## filter function"
   ]
  },
  {
   "cell_type": "code",
   "execution_count": 5,
   "metadata": {},
   "outputs": [
    {
     "name": "stdout",
     "output_type": "stream",
     "text": [
      "[0, 1, 2, 3, 4, 5, 6, 7, 8, 9, 10, 11, 12, 13, 14, 15, 16, 17, 18, 19, 20, 21, 22, 23, 24, 25, 26, 27, 28, 29, 30, 31, 32, 33, 34, 35, 36, 37, 38, 39, 40, 41, 42, 43, 44, 45, 46, 47, 48, 49, 50, 51, 52, 53, 54, 55, 56, 57, 58, 59, 60, 61, 62, 63, 64, 65, 66, 67, 68, 69, 70, 71, 72, 73, 74, 75, 76, 77, 78, 79, 80, 81, 82, 83, 84, 85, 86, 87, 88, 89, 90, 91, 92, 93, 94, 95, 96, 97, 98, 99]\n"
     ]
    }
   ],
   "source": [
    "# We use list comprehension to create list with 100 numbers\n",
    "numbers = [x for x in range(100)]\n",
    "print(numbers)"
   ]
  },
  {
   "cell_type": "markdown",
   "metadata": {},
   "source": [
    "The filter resembles a for loop but it is a builtin function and faster.\n",
    "Filter always return an iterator!"
   ]
  },
  {
   "cell_type": "code",
   "execution_count": 6,
   "metadata": {},
   "outputs": [
    {
     "name": "stdout",
     "output_type": "stream",
     "text": [
      "0\n",
      "5\n",
      "10\n",
      "15\n",
      "20\n",
      "25\n",
      "30\n",
      "35\n",
      "40\n",
      "45\n",
      "50\n",
      "55\n",
      "60\n",
      "65\n",
      "70\n",
      "75\n",
      "80\n",
      "85\n",
      "90\n",
      "95\n"
     ]
    }
   ],
   "source": [
    "# Simple function that return true when the number is divided by 5\n",
    "def is_divided_by_5(number):\n",
    "    if number % 5 == 0:\n",
    "        return True\n",
    "    else:\n",
    "        return False\n",
    "\n",
    "numbers_div5_iterator = filter(is_divided_by_5, numbers)\n",
    "\n",
    "# filter return iterator, so we need use for loop to get all elements\n",
    "for n in numbers_div5_iterator:\n",
    "    print(n)"
   ]
  },
  {
   "cell_type": "code",
   "execution_count": 7,
   "metadata": {},
   "outputs": [
    {
     "name": "stdout",
     "output_type": "stream",
     "text": [
      "0\n",
      "5\n",
      "10\n",
      "15\n",
      "20\n",
      "25\n",
      "30\n",
      "35\n",
      "40\n",
      "45\n",
      "50\n",
      "55\n",
      "60\n",
      "65\n",
      "70\n",
      "75\n",
      "80\n",
      "85\n",
      "90\n",
      "95\n"
     ]
    }
   ],
   "source": [
    "# Similar code but with lambda construction\n",
    "numbers_div5_iterator = filter(lambda x: x % 5 == 0, numbers)\n",
    "\n",
    "for n in numbers_div5_iterator:\n",
    "    print(n)"
   ]
  },
  {
   "cell_type": "code",
   "execution_count": 8,
   "metadata": {},
   "outputs": [
    {
     "name": "stdout",
     "output_type": "stream",
     "text": [
      "[0, 5, 10, 15, 20, 25, 30, 35, 40, 45, 50, 55, 60, 65, 70, 75, 80, 85, 90, 95]\n",
      "[]\n"
     ]
    }
   ],
   "source": [
    "numbers_div5_iterator = filter(lambda x: x % 5 == 0, numbers)\n",
    "\n",
    "# Simple way to create list from iterator\n",
    "numbers_div5_list = list(numbers_div5_iterator)\n",
    "print(numbers_div5_list)\n",
    "\n",
    "# HINT: iterator can be used only once\n",
    "#       Python's iterator protocol is very simple, and only provides \n",
    "#       one single method (.next() or __next__()), \n",
    "#       and no method to reset an iterator in general.\n",
    "\n",
    "numbers_div5_list = list(numbers_div5_iterator)\n",
    "print(numbers_div5_list)"
   ]
  },
  {
   "cell_type": "code",
   "execution_count": 10,
   "metadata": {},
   "outputs": [
    {
     "name": "stdout",
     "output_type": "stream",
     "text": [
      "['Anne', 'Amy']\n"
     ]
    }
   ],
   "source": [
    "# filter can be used with different type of lists\n",
    "\n",
    "names = ['Anne', 'Amy', 'Bob', 'David', 'Carrie', 'Barbara']\n",
    "names_start_with_a = list(filter(lambda s: s.startswith('A'), names))\n",
    "print(names_start_with_a)"
   ]
  },
  {
   "cell_type": "markdown",
   "metadata": {},
   "source": [
    "## map function\n",
    "\n",
    "Blueprint:   map(function_to_apply, list_of_inputs)"
   ]
  },
  {
   "cell_type": "code",
   "execution_count": 11,
   "metadata": {},
   "outputs": [
    {
     "name": "stdout",
     "output_type": "stream",
     "text": [
      "List1:  [1, 2, 3, 4, 5]\n",
      "List2:  [6, 7, 8, 9, 10]\n",
      "List result:  [7, 9, 11, 13, 15]\n"
     ]
    }
   ],
   "source": [
    "list_1 = [x for x in range(1,6)]\n",
    "list_2 = [x for x in range(6,11)]\n",
    "\n",
    "print('List1: ', list_1)\n",
    "print('List2: ', list_2)\n",
    "list_result = list(map(lambda x,y:x+y, list_1,list_2))\n",
    "print('List result: ', list_result)"
   ]
  },
  {
   "cell_type": "markdown",
   "metadata": {},
   "source": [
    "## reduce function\n",
    "\n",
    "Blueprint:   map(function_to_apply, list_of_inputs)\n",
    "             list_of_inputs = [el_1, el_2, el_3]\n",
    "\n",
    "The function is used to apply a function to all of the list elements. \n",
    "1. At the beginning the first the first two elements of list is applied to the function\n",
    "2. In the next step functiom is applied on the previous result and the third element of the list: function(function(el_1, el_2),el_3)"
   ]
  },
  {
   "cell_type": "code",
   "execution_count": 8,
   "metadata": {},
   "outputs": [
    {
     "name": "stdout",
     "output_type": "stream",
     "text": [
      "List1:  [1, 2, 3, 4, 5]\n",
      "List1 reduced:  15\n",
      "List1 reduced:  15\n"
     ]
    }
   ],
   "source": [
    "from functools import reduce\n",
    "\n",
    "def add(x,y):\n",
    "    return x + y\n",
    "\n",
    "list_1 = [x for x in range(1,6)]\n",
    "\n",
    "print('List1: ', list_1)\n",
    "print('List1 reduced: ', reduce(add, list_1))\n",
    "\n",
    "# The same example using lambda func\n",
    "print('List1 reduced: ', reduce(lambda x,y: x+y, list_1))"
   ]
  },
  {
   "cell_type": "markdown",
   "metadata": {},
   "source": [
    "## TODO"
   ]
  },
  {
   "cell_type": "code",
   "execution_count": 13,
   "metadata": {},
   "outputs": [
    {
     "name": "stdout",
     "output_type": "stream",
     "text": [
      "[6, 5, 6, 7]\n"
     ]
    }
   ],
   "source": [
    "xx = ['Snappy', 'Kitty', 'Jessie', 'Chester']\n",
    "#xx = [1,2,3]\n",
    "def count_letters(word):\n",
    "    return len(word) - word.count(' ')\n",
    "\n",
    "# TODO Create a list with the number of character of each word. Use map & len function\n",
    "no_of_char  = list(map(count_letters, xx))\n",
    "print(no_of_char)\n"
   ]
  },
  {
   "cell_type": "code",
   "execution_count": 29,
   "metadata": {},
   "outputs": [
    {
     "name": "stdout",
     "output_type": "stream",
     "text": [
      "Lorem ipsum dolor sit amet, consectetuer adipiscing elit. Donec odio. Quisque volutpat mattis eros. Nullam malesuada erat ut turpis. Suspendisse urna nibh, viverra non, semper suscipit, posuere a, pede. Donec nec justo eget felis facilisis fermentum. Aliquam porttitor mauris sit amet orci. Aenean dignissim pellentesque felis.\n",
      "46\n"
     ]
    }
   ],
   "source": [
    "sentences = \"Lorem ipsum dolor sit amet, consectetuer adipiscing elit. Donec odio. \\\n",
    "Quisque volutpat mattis eros. Nullam malesuada erat ut turpis. Suspendisse urna nibh, \\\n",
    "viverra non, semper suscipit, posuere a, pede. \\\n",
    "Donec nec justo eget felis facilisis fermentum. Aliquam porttitor mauris sit amet orci. \\\n",
    "Aenean dignissim pellentesque felis.\"\n",
    "import string\n",
    "\n",
    "print(sentences)\n",
    "translator = str.maketrans('', '', string.punctuation)\n",
    "out= sentences.translate(translator)\n",
    "split = out.split()\n",
    "print(len(split))\n",
    "\n",
    "# TODO Find the number of words in the sentence:\n",
    "## Hint:\n",
    "# 1. remove punctuations\n",
    "# 2. split the resulting sentence\n",
    "# 3. map \"1\" to each word of sentence\n",
    "# 4. reduce to find the number of words in the sentence"
   ]
  },
  {
   "cell_type": "code",
   "execution_count": 51,
   "metadata": {},
   "outputs": [
    {
     "name": "stdout",
     "output_type": "stream",
     "text": [
      "Apr-04 cola 1 5\n",
      "Dec-15 cola 2 4\n",
      "Dec-01 cola 7 12\n",
      "Dec-17 cola 2 4\n",
      "Feb-02 Sandwith 3 22\n",
      "Mar-03 burger 8 11\n",
      "Feb-22 Sandwith 3 32\n",
      "Feb-13 Sandwith 1 22\n",
      "Feb-01 Sandwith 3 21\n",
      "Feb-23 burger 5 15\n",
      "Mar-08 burger 2 14\n",
      "\"-\" is repeated 11 times.\n",
      "\"0\" is repeated 6 times.\n",
      "\"1\" is repeated 5 times.\n",
      "\"2\" is repeated 4 times.\n",
      "\"3\" is repeated 3 times.\n",
      "\"4\" is repeated 1 time.\n",
      "\"5\" is repeated 1 time.\n",
      "\"7\" is repeated 1 time.\n",
      "\"8\" is repeated 1 time.\n",
      "\"A\" is repeated 1 time.\n",
      "\"D\" is repeated 3 times.\n",
      "\"F\" is repeated 5 times.\n",
      "\"M\" is repeated 2 times.\n",
      "\"S\" is repeated 4 times.\n",
      "\"a\" is repeated 10 times.\n",
      "\"b\" is repeated 8 times.\n",
      "\"c\" is repeated 7 times.\n",
      "\"d\" is repeated 4 times.\n",
      "\"e\" is repeated 11 times.\n",
      "\"g\" is repeated 3 times.\n",
      "\"h\" is repeated 4 times.\n",
      "\"i\" is repeated 4 times.\n",
      "\"l\" is repeated 4 times.\n",
      "\"n\" is repeated 4 times.\n",
      "\"o\" is repeated 4 times.\n",
      "\"p\" is repeated 1 time.\n",
      "\"r\" is repeated 9 times.\n",
      "\"t\" is repeated 4 times.\n",
      "\"u\" is repeated 3 times.\n",
      "\"w\" is repeated 4 times.\n"
     ]
    }
   ],
   "source": [
    "# Log:  Date product no_of_items price\n",
    "\n",
    "log_1 = \"\"\"Apr-04 cola 1 5\n",
    "Dec-15 cola 2 4\n",
    "Dec-01 cola 7 12\n",
    "Dec-17 cola 2 4\n",
    "Feb-02 Sandwith 3 22\n",
    "Mar-03 burger 8 11\n",
    "Feb-22 Sandwith 3 32\n",
    "Feb-13 Sandwith 1 22\n",
    "Feb-01 Sandwith 3 21\n",
    "Feb-23 burger 5 15\n",
    "Mar-08 burger 2 14\"\"\"    ## Add more examples\n",
    "\n",
    "print(log_1)\n",
    "\n",
    "# TODO Find the best-selling item\n",
    "import string\n",
    "import collections\n",
    "from functools import reduce\n",
    "split = log_1.split()\n",
    "result = ''.join(i for i in split if not i.isdigit())\n",
    "word_counts = collections.Counter(result)\n",
    "for word, count in sorted(word_counts.items()):\n",
    "    print('\"%s\" is repeated %d time%s.' % (word, count, \"s\" if count > 1 else \"\"))\n",
    "\n",
    "# TODO Create sales summary  [(product, total_items, average_price), (product, total_items, average_price) ...] "
   ]
  },
  {
   "cell_type": "markdown",
   "metadata": {},
   "source": [
    "## Miniproject\n",
    "\n",
    "1. Import book, clean the text and get the total number of words\n",
    "https://www.gutenberg.org/files/11/11-0.txt\n",
    "\n",
    "2. Try to run your script with text that include all TOP100 books from https://www.gutenberg.org/browse/scores/top\n",
    "\n",
    "3. What problems could appear during processing? Create a script to measure the execution/processing time. \n"
   ]
  },
  {
   "cell_type": "code",
   "execution_count": null,
   "metadata": {
    "collapsed": true
   },
   "outputs": [],
   "source": []
  }
 ],
 "metadata": {
  "kernelspec": {
   "display_name": "Python 3",
   "language": "python",
   "name": "python3"
  },
  "language_info": {
   "codemirror_mode": {
    "name": "ipython",
    "version": 3
   },
   "file_extension": ".py",
   "mimetype": "text/x-python",
   "name": "python",
   "nbconvert_exporter": "python",
   "pygments_lexer": "ipython3",
   "version": "3.6.1"
  }
 },
 "nbformat": 4,
 "nbformat_minor": 2
}
